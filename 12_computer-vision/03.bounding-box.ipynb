{
 "cells": [
  {
   "cell_type": "code",
   "execution_count": null,
   "id": "initial_id",
   "metadata": {
    "collapsed": true
   },
   "outputs": [],
   "source": [
    "%matplotlib inline\n",
    "import torch\n",
    "from d2l import torch as d2l"
   ]
  },
  {
   "cell_type": "code",
   "execution_count": null,
   "outputs": [],
   "source": [
    "d2l.set_figsize()\n",
    "img = d2l.plt.imread('../img/catdog.jpg')\n",
    "d2l.plt.imshow(img)"
   ],
   "metadata": {
    "collapsed": false
   },
   "id": "893b673ec4d55f62"
  },
  {
   "cell_type": "code",
   "execution_count": null,
   "outputs": [],
   "source": [
    "def box_corner_to_center(boxes):\n",
    "    \"\"\"从（左上，右下）转换到（中间，宽度，高度）\"\"\"\n",
    "    x1, y1, x2, y2 = boxes[:, 0], boxes[:, 1], boxes[:, 2], boxes[:, 3]\n",
    "    cx = (x1 + x2) / 2\n",
    "    cy = (y1 + y2) / 2\n",
    "    w = x2 - x1\n",
    "    h = y2 - y1\n",
    "    boxes = torch.stack((cx, cy, w, h), axis=-1)\n",
    "    return boxes"
   ],
   "metadata": {
    "collapsed": false
   },
   "id": "e1a73feba1194e3c"
  },
  {
   "cell_type": "code",
   "execution_count": null,
   "outputs": [],
   "source": [
    "def box_center_to_corner(boxes):\n",
    "    \"\"\"从（中间，宽度，高度）转换到（左上，右下）\"\"\"\n",
    "    cx, cy, w, h = boxes[:, 0], boxes[:, 1], boxes[:, 2], boxes[:, 3]\n",
    "    x1 = cx - 0.5 * w\n",
    "    y1 = cy - 0.5 * h\n",
    "    x2 = cx + 0.5 * w\n",
    "    y2 = cy + 0.5 * h\n",
    "    boxes = torch.stack((x1, y1, x2, y2), axis=-1)\n",
    "    return boxes"
   ],
   "metadata": {
    "collapsed": false
   },
   "id": "b9a96cffa55572fe"
  },
  {
   "cell_type": "code",
   "execution_count": null,
   "outputs": [],
   "source": [
    "# bbox是边界框的英文缩写\n",
    "dog_bbox, cat_bbox = [60.0, 45.0, 378.0, 516.0], [400.0, 112.0, 655.0, 493.0]"
   ],
   "metadata": {
    "collapsed": false
   },
   "id": "52a920f7a8cff4e8"
  },
  {
   "cell_type": "code",
   "execution_count": null,
   "outputs": [],
   "source": [
    "boxes = torch.tensor((dog_bbox, cat_bbox))\n",
    "box_center_to_corner(box_corner_to_center(boxes)) == boxes"
   ],
   "metadata": {
    "collapsed": false
   },
   "id": "a0530c01beeef5c4"
  },
  {
   "cell_type": "code",
   "execution_count": null,
   "outputs": [],
   "source": [
    "def bbox_to_rect(bbox, color):\n",
    "    # 将边界框(左上x,左上y,右下x,右下y)格式转换成matplotlib格式：\n",
    "    # ((左上x,左上y),宽,高)\n",
    "    return d2l.plt.Rectangle(\n",
    "        xy=(bbox[0], bbox[1]), width=bbox[2] - bbox[0], height=bbox[3] - bbox[1],\n",
    "        fill=False, edgecolor=color, linewidth=2)"
   ],
   "metadata": {
    "collapsed": false
   },
   "id": "4af4e1721f5aa7c"
  },
  {
   "cell_type": "code",
   "execution_count": null,
   "outputs": [],
   "source": [
    "fig = d2l.plt.imshow(img)\n",
    "fig.axes.add_patch(bbox_to_rect(dog_bbox, 'blue'))\n",
    "fig.axes.add_patch(bbox_to_rect(cat_bbox, 'red'))"
   ],
   "metadata": {
    "collapsed": false
   },
   "id": "9639252241769dca"
  }
 ],
 "metadata": {
  "kernelspec": {
   "display_name": "Python 3",
   "language": "python",
   "name": "python3"
  },
  "language_info": {
   "codemirror_mode": {
    "name": "ipython",
    "version": 2
   },
   "file_extension": ".py",
   "mimetype": "text/x-python",
   "name": "python",
   "nbconvert_exporter": "python",
   "pygments_lexer": "ipython2",
   "version": "2.7.6"
  }
 },
 "nbformat": 4,
 "nbformat_minor": 5
}
