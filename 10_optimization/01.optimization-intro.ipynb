{
 "cells": [
  {
   "cell_type": "code",
   "execution_count": null,
   "id": "initial_id",
   "metadata": {
    "collapsed": true
   },
   "outputs": [],
   "source": [
    "%matplotlib inline\n",
    "import numpy as np\n",
    "import torch\n",
    "from mpl_toolkits import mplot3d\n",
    "from d2l import torch as d2l"
   ]
  },
  {
   "cell_type": "code",
   "execution_count": null,
   "outputs": [],
   "source": [
    "def f(x):\n",
    "    return x * torch.cos(np.pi * x)\n",
    "\n",
    "\n",
    "def g(x):\n",
    "    return f(x) + 0.2 * torch.cos(5 * np.pi * x)"
   ],
   "metadata": {
    "collapsed": false
   },
   "id": "761ba38012e88827"
  },
  {
   "cell_type": "code",
   "execution_count": null,
   "outputs": [],
   "source": [
    "def annotate(text, xy, xytext):  #@save\n",
    "    d2l.plt.gca().annotate(text, xy=xy, xytext=xytext,\n",
    "                           arrowprops=dict(arrowstyle='->'))\n",
    "\n",
    "\n",
    "x = torch.arange(0.5, 1.5, 0.01)\n",
    "d2l.set_figsize((4.5, 2.5))\n",
    "d2l.plot(x, [f(x), g(x)], 'x', 'risk')\n",
    "annotate('min of\\nempirical risk', (1.0, -1.2), (0.5, -1.1))\n",
    "annotate('min of risk', (1.1, -1.05), (0.95, -0.5))"
   ],
   "metadata": {
    "collapsed": false
   },
   "id": "8ef89a53df2c2dbb"
  },
  {
   "cell_type": "code",
   "execution_count": null,
   "outputs": [],
   "source": [
    "x = torch.arange(-1.0, 2.0, 0.01)\n",
    "d2l.plot(x, [f(x), ], 'x', 'f(x)')\n",
    "annotate('local minimum', (-0.3, -0.25), (-0.77, -1.0))\n",
    "annotate('global minimum', (1.1, -0.95), (0.6, 0.8))"
   ],
   "metadata": {
    "collapsed": false
   },
   "id": "900268ba82b336f2"
  },
  {
   "cell_type": "code",
   "execution_count": null,
   "outputs": [],
   "source": [
    "x = torch.arange(-2.0, 2.0, 0.01)\n",
    "d2l.plot(x, [x ** 3], 'x', 'f(x)')\n",
    "annotate('saddle point', (0, -0.2), (-0.52, -5.0))"
   ],
   "metadata": {
    "collapsed": false
   },
   "id": "3a22fb5274d790f9"
  },
  {
   "cell_type": "code",
   "execution_count": null,
   "outputs": [],
   "source": [
    "x, y = torch.meshgrid(\n",
    "    torch.linspace(-1.0, 1.0, 101), torch.linspace(-1.0, 1.0, 101))\n",
    "z = x ** 2 - y ** 2\n",
    "\n",
    "ax = d2l.plt.figure().add_subplot(111, projection='3d')\n",
    "ax.plot_wireframe(x, y, z, **{'rstride': 10, 'cstride': 10})\n",
    "ax.plot([0], [0], [0], 'rx')\n",
    "ticks = [-1, 0, 1]\n",
    "d2l.plt.xticks(ticks)\n",
    "d2l.plt.yticks(ticks)\n",
    "ax.set_zticks(ticks)\n",
    "d2l.plt.xlabel('x')\n",
    "d2l.plt.ylabel('y')"
   ],
   "metadata": {
    "collapsed": false
   },
   "id": "5b926f32ee244f6d"
  },
  {
   "cell_type": "code",
   "execution_count": null,
   "outputs": [],
   "source": [
    "x = torch.arange(-2.0, 5.0, 0.01)\n",
    "d2l.plot(x, [torch.tanh(x)], 'x', 'f(x)')\n",
    "annotate('vanishing gradient', (4, 1), (2, 0.0))"
   ],
   "metadata": {
    "collapsed": false
   },
   "id": "3c75e082ac705b93"
  }
 ],
 "metadata": {
  "kernelspec": {
   "display_name": "Python 3",
   "language": "python",
   "name": "python3"
  },
  "language_info": {
   "codemirror_mode": {
    "name": "ipython",
    "version": 2
   },
   "file_extension": ".py",
   "mimetype": "text/x-python",
   "name": "python",
   "nbconvert_exporter": "python",
   "pygments_lexer": "ipython2",
   "version": "2.7.6"
  }
 },
 "nbformat": 4,
 "nbformat_minor": 5
}
