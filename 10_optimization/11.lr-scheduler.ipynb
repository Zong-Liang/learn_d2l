{
 "cells": [
  {
   "cell_type": "code",
   "execution_count": null,
   "id": "initial_id",
   "metadata": {
    "collapsed": true
   },
   "outputs": [],
   "source": [
    "%matplotlib inline\n",
    "import math\n",
    "import torch\n",
    "from torch import nn\n",
    "from torch.optim import lr_scheduler\n",
    "from d2l import torch as d2l\n",
    "\n",
    "\n",
    "def net_fn():\n",
    "    model = nn.Sequential(\n",
    "        nn.Conv2d(1, 6, kernel_size=5, padding=2), nn.ReLU(),\n",
    "        nn.MaxPool2d(kernel_size=2, stride=2),\n",
    "        nn.Conv2d(6, 16, kernel_size=5), nn.ReLU(),\n",
    "        nn.MaxPool2d(kernel_size=2, stride=2),\n",
    "        nn.Flatten(),\n",
    "        nn.Linear(16 * 5 * 5, 120), nn.ReLU(),\n",
    "        nn.Linear(120, 84), nn.ReLU(),\n",
    "        nn.Linear(84, 10))\n",
    "\n",
    "    return model\n",
    "\n",
    "\n",
    "loss = nn.CrossEntropyLoss()\n",
    "device = d2l.try_gpu()\n",
    "\n",
    "batch_size = 256\n",
    "train_iter, test_iter = d2l.load_data_fashion_mnist(batch_size=batch_size)\n",
    "\n",
    "\n",
    "# 代码几乎与d2l.train_ch6定义在卷积神经网络一章LeNet一节中的相同\n",
    "def train(net, train_iter, test_iter, num_epochs, loss, trainer, device,\n",
    "          scheduler=None):\n",
    "    net.to(device)\n",
    "    animator = d2l.Animator(xlabel='epoch', xlim=[0, num_epochs],\n",
    "                            legend=['train loss', 'train acc', 'test acc'])\n",
    "\n",
    "    for epoch in range(num_epochs):\n",
    "        metric = d2l.Accumulator(3)  # train_loss,train_acc,num_examples\n",
    "        for i, (X, y) in enumerate(train_iter):\n",
    "            net.train()\n",
    "            trainer.zero_grad()\n",
    "            X, y = X.to(device), y.to(device)\n",
    "            y_hat = net(X)\n",
    "            l = loss(y_hat, y)\n",
    "            l.backward()\n",
    "            trainer.step()\n",
    "            with torch.no_grad():\n",
    "                metric.add(l * X.shape[0], d2l.accuracy(y_hat, y), X.shape[0])\n",
    "            train_loss = metric[0] / metric[2]\n",
    "            train_acc = metric[1] / metric[2]\n",
    "            if (i + 1) % 50 == 0:\n",
    "                animator.add(epoch + i / len(train_iter),\n",
    "                             (train_loss, train_acc, None))\n",
    "\n",
    "        test_acc = d2l.evaluate_accuracy_gpu(net, test_iter)\n",
    "        animator.add(epoch + 1, (None, None, test_acc))\n",
    "\n",
    "        if scheduler:\n",
    "            if scheduler.__module__ == lr_scheduler.__name__:\n",
    "                # UsingPyTorchIn-Builtscheduler\n",
    "                scheduler.step()\n",
    "            else:\n",
    "                # Usingcustomdefinedscheduler\n",
    "                for param_group in trainer.param_groups:\n",
    "                    param_group['lr'] = scheduler(epoch)\n",
    "\n",
    "    print(f'train loss {train_loss:.3f}, train acc {train_acc:.3f}, '\n",
    "          f'test acc {test_acc:.3f}')"
   ]
  },
  {
   "cell_type": "code",
   "execution_count": null,
   "outputs": [],
   "source": [
    "lr, num_epochs = 0.3, 30\n",
    "net = net_fn()\n",
    "trainer = torch.optim.SGD(net.parameters(), lr=lr)\n",
    "train(net, train_iter, test_iter, num_epochs, loss, trainer, device)"
   ],
   "metadata": {
    "collapsed": false
   },
   "id": "c5e73abcffeeb24e"
  },
  {
   "cell_type": "code",
   "execution_count": null,
   "outputs": [],
   "source": [
    "lr = 0.1\n",
    "trainer.param_groups[0][\"lr\"] = lr\n",
    "print(f'learning rate is now {trainer.param_groups[0][\"lr\"]:.2f}')"
   ],
   "metadata": {
    "collapsed": false
   },
   "id": "2c8463d0a4fa8990"
  },
  {
   "cell_type": "code",
   "execution_count": null,
   "outputs": [],
   "source": [
    "class SquareRootScheduler:\n",
    "    def __init__(self, lr=0.1):\n",
    "        self.lr = lr\n",
    "\n",
    "    def __call__(self, num_update):\n",
    "        return self.lr * pow(num_update + 1.0, -0.5)"
   ],
   "metadata": {
    "collapsed": false
   },
   "id": "78f7f767c59df9fa"
  },
  {
   "cell_type": "code",
   "execution_count": null,
   "outputs": [],
   "source": [
    "scheduler = SquareRootScheduler(lr=0.1)\n",
    "d2l.plot(torch.arange(num_epochs), [scheduler(t) for t in range(num_epochs)])"
   ],
   "metadata": {
    "collapsed": false
   },
   "id": "8452778ef797779e"
  },
  {
   "cell_type": "code",
   "execution_count": null,
   "outputs": [],
   "source": [
    "net = net_fn()\n",
    "trainer = torch.optim.SGD(net.parameters(), lr)\n",
    "train(net, train_iter, test_iter, num_epochs, loss, trainer, device,\n",
    "      scheduler)"
   ],
   "metadata": {
    "collapsed": false
   },
   "id": "b61391ff671166f4"
  },
  {
   "cell_type": "code",
   "execution_count": null,
   "outputs": [],
   "source": [
    "class FactorScheduler:\n",
    "    def __init__(self, factor=1, stop_factor_lr=1e-7, base_lr=0.1):\n",
    "        self.factor = factor\n",
    "        self.stop_factor_lr = stop_factor_lr\n",
    "        self.base_lr = base_lr\n",
    "\n",
    "    def __call__(self, num_update):\n",
    "        self.base_lr = max(self.stop_factor_lr, self.base_lr * self.factor)\n",
    "        return self.base_lr\n",
    "\n",
    "\n",
    "scheduler = FactorScheduler(factor=0.9, stop_factor_lr=1e-2, base_lr=2.0)\n",
    "d2l.plot(torch.arange(50), [scheduler(t) for t in range(50)])"
   ],
   "metadata": {
    "collapsed": false
   },
   "id": "9a57d7d2b59ea1d1"
  },
  {
   "cell_type": "code",
   "execution_count": null,
   "outputs": [],
   "source": [
    "net = net_fn()\n",
    "trainer = torch.optim.SGD(net.parameters(), lr=0.5)\n",
    "scheduler = lr_scheduler.MultiStepLR(trainer, milestones=[15, 30], gamma=0.5)\n",
    "\n",
    "\n",
    "def get_lr(trainer, scheduler):\n",
    "    lr = scheduler.get_last_lr()[0]\n",
    "    trainer.step()\n",
    "    scheduler.step()\n",
    "    return lr\n",
    "\n",
    "\n",
    "d2l.plot(torch.arange(num_epochs), [get_lr(trainer, scheduler)\n",
    "                                    for t in range(num_epochs)])"
   ],
   "metadata": {
    "collapsed": false
   },
   "id": "de38d191cf695f5f"
  },
  {
   "cell_type": "code",
   "execution_count": null,
   "outputs": [],
   "source": [
    "train(net, train_iter, test_iter, num_epochs, loss, trainer, device,\n",
    "      scheduler)"
   ],
   "metadata": {
    "collapsed": false
   },
   "id": "f5a540f27700b268"
  },
  {
   "cell_type": "code",
   "execution_count": null,
   "outputs": [],
   "source": [
    "class CosineScheduler:\n",
    "    def __init__(self, max_update, base_lr=0.01, final_lr=0,\n",
    "                 warmup_steps=0, warmup_begin_lr=0):\n",
    "        self.base_lr_orig = base_lr\n",
    "        self.max_update = max_update\n",
    "        self.final_lr = final_lr\n",
    "        self.warmup_steps = warmup_steps\n",
    "        self.warmup_begin_lr = warmup_begin_lr\n",
    "        self.max_steps = self.max_update - self.warmup_steps\n",
    "\n",
    "    def get_warmup_lr(self, epoch):\n",
    "        increase = (self.base_lr_orig - self.warmup_begin_lr) \\\n",
    "                   * float(epoch) / float(self.warmup_steps)\n",
    "        return self.warmup_begin_lr + increase\n",
    "\n",
    "    def __call__(self, epoch):\n",
    "        if epoch < self.warmup_steps:\n",
    "            return self.get_warmup_lr(epoch)\n",
    "        if epoch <= self.max_update:\n",
    "            self.base_lr = self.final_lr + (\n",
    "                    self.base_lr_orig - self.final_lr) * (1 + math.cos(\n",
    "                math.pi * (epoch - self.warmup_steps) / self.max_steps)) / 2\n",
    "        return self.base_lr\n",
    "\n",
    "\n",
    "scheduler = CosineScheduler(max_update=20, base_lr=0.3, final_lr=0.01)\n",
    "d2l.plot(torch.arange(num_epochs), [scheduler(t) for t in range(num_epochs)])"
   ],
   "metadata": {
    "collapsed": false
   },
   "id": "7ea12bea558921b4"
  },
  {
   "cell_type": "code",
   "execution_count": null,
   "outputs": [],
   "source": [
    "net = net_fn()\n",
    "trainer = torch.optim.SGD(net.parameters(), lr=0.3)\n",
    "train(net, train_iter, test_iter, num_epochs, loss, trainer, device,\n",
    "      scheduler)"
   ],
   "metadata": {
    "collapsed": false
   },
   "id": "12741047fecf1bde"
  },
  {
   "cell_type": "code",
   "execution_count": null,
   "outputs": [],
   "source": [
    "scheduler = CosineScheduler(20, warmup_steps=5, base_lr=0.3, final_lr=0.01)\n",
    "d2l.plot(torch.arange(num_epochs), [scheduler(t) for t in range(num_epochs)])"
   ],
   "metadata": {
    "collapsed": false
   },
   "id": "ee3969a9e87c3f7d"
  },
  {
   "cell_type": "code",
   "execution_count": null,
   "outputs": [],
   "source": [
    "net = net_fn()\n",
    "trainer = torch.optim.SGD(net.parameters(), lr=0.3)\n",
    "train(net, train_iter, test_iter, num_epochs, loss, trainer, device,\n",
    "      scheduler)"
   ],
   "metadata": {
    "collapsed": false
   },
   "id": "b386dc03edd71442"
  }
 ],
 "metadata": {
  "kernelspec": {
   "display_name": "Python 3",
   "language": "python",
   "name": "python3"
  },
  "language_info": {
   "codemirror_mode": {
    "name": "ipython",
    "version": 2
   },
   "file_extension": ".py",
   "mimetype": "text/x-python",
   "name": "python",
   "nbconvert_exporter": "python",
   "pygments_lexer": "ipython2",
   "version": "2.7.6"
  }
 },
 "nbformat": 4,
 "nbformat_minor": 5
}
